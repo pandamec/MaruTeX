{
 "cells": [
  {
   "cell_type": "code",
   "execution_count": 2,
   "metadata": {},
   "outputs": [
    {
     "name": "stdout",
     "output_type": "stream",
     "text": [
      "Collecting pandas\n",
      "  Downloading pandas-2.2.3-cp312-cp312-macosx_11_0_arm64.whl.metadata (89 kB)\n",
      "Requirement already satisfied: numpy>=1.26.0 in /Users/gianpaulrincon/.julia/conda/3/aarch64/lib/python3.12/site-packages (from pandas) (2.1.2)\n",
      "Requirement already satisfied: python-dateutil>=2.8.2 in /Users/gianpaulrincon/.julia/conda/3/aarch64/lib/python3.12/site-packages (from pandas) (2.9.0.post0)\n",
      "Collecting pytz>=2020.1 (from pandas)\n",
      "  Downloading pytz-2024.2-py2.py3-none-any.whl.metadata (22 kB)\n",
      "Collecting tzdata>=2022.7 (from pandas)\n",
      "  Downloading tzdata-2024.2-py2.py3-none-any.whl.metadata (1.4 kB)\n",
      "Requirement already satisfied: six>=1.5 in /Users/gianpaulrincon/.julia/conda/3/aarch64/lib/python3.12/site-packages (from python-dateutil>=2.8.2->pandas) (1.16.0)\n",
      "Downloading pandas-2.2.3-cp312-cp312-macosx_11_0_arm64.whl (11.4 MB)\n",
      "\u001b[2K   \u001b[90m━━━━━━━━━━━━━━━━━━━━━━━━━━━━━━━━━━━━━━━━\u001b[0m \u001b[32m11.4/11.4 MB\u001b[0m \u001b[31m12.7 MB/s\u001b[0m eta \u001b[36m0:00:00\u001b[0ma \u001b[36m0:00:01\u001b[0m\n",
      "\u001b[?25hDownloading pytz-2024.2-py2.py3-none-any.whl (508 kB)\n",
      "Downloading tzdata-2024.2-py2.py3-none-any.whl (346 kB)\n",
      "Installing collected packages: pytz, tzdata, pandas\n",
      "Successfully installed pandas-2.2.3 pytz-2024.2 tzdata-2024.2\n",
      "Note: you may need to restart the kernel to use updated packages.\n"
     ]
    }
   ],
   "source": [
    "pip install pandas"
   ]
  },
  {
   "cell_type": "code",
   "execution_count": 3,
   "metadata": {},
   "outputs": [
    {
     "name": "stdout",
     "output_type": "stream",
     "text": [
      "\u001b[31mERROR: Could not find a version that satisfies the requirement subprocess (from versions: none)\u001b[0m\u001b[31m\n",
      "\u001b[0m\u001b[31mERROR: No matching distribution found for subprocess\u001b[0m\u001b[31m\n",
      "\u001b[0mNote: you may need to restart the kernel to use updated packages.\n"
     ]
    }
   ],
   "source": [
    "pip install subprocess"
   ]
  },
  {
   "cell_type": "code",
   "execution_count": 5,
   "metadata": {},
   "outputs": [
    {
     "name": "stdout",
     "output_type": "stream",
     "text": [
      "Collecting jinja2\n",
      "  Downloading jinja2-3.1.4-py3-none-any.whl.metadata (2.6 kB)\n",
      "Collecting MarkupSafe>=2.0 (from jinja2)\n",
      "  Downloading MarkupSafe-3.0.2-cp312-cp312-macosx_11_0_arm64.whl.metadata (4.0 kB)\n",
      "Downloading jinja2-3.1.4-py3-none-any.whl (133 kB)\n",
      "Downloading MarkupSafe-3.0.2-cp312-cp312-macosx_11_0_arm64.whl (12 kB)\n",
      "Installing collected packages: MarkupSafe, jinja2\n",
      "Successfully installed MarkupSafe-3.0.2 jinja2-3.1.4\n",
      "Note: you may need to restart the kernel to use updated packages.\n"
     ]
    }
   ],
   "source": [
    "pip install jinja2"
   ]
  },
  {
   "cell_type": "code",
   "execution_count": 9,
   "metadata": {},
   "outputs": [
    {
     "name": "stdout",
     "output_type": "stream",
     "text": [
      "Collecting openpyxl\n",
      "  Downloading openpyxl-3.1.5-py2.py3-none-any.whl.metadata (2.5 kB)\n",
      "Collecting et-xmlfile (from openpyxl)\n",
      "  Downloading et_xmlfile-2.0.0-py3-none-any.whl.metadata (2.7 kB)\n",
      "Downloading openpyxl-3.1.5-py2.py3-none-any.whl (250 kB)\n",
      "Downloading et_xmlfile-2.0.0-py3-none-any.whl (18 kB)\n",
      "Installing collected packages: et-xmlfile, openpyxl\n",
      "Successfully installed et-xmlfile-2.0.0 openpyxl-3.1.5\n",
      "Note: you may need to restart the kernel to use updated packages.\n"
     ]
    }
   ],
   "source": [
    "pip install openpyxl"
   ]
  },
  {
   "cell_type": "code",
   "execution_count": 7,
   "metadata": {},
   "outputs": [],
   "source": [
    "import os\n",
    "import pandas as pd\n",
    "from jinja2 import Template\n",
    "import subprocess"
   ]
  },
  {
   "cell_type": "code",
   "execution_count": 19,
   "metadata": {},
   "outputs": [
    {
     "name": "stdout",
     "output_type": "stream",
     "text": [
      "Reports generated!\n"
     ]
    }
   ],
   "source": [
    "import os\n",
    "import pandas as pd\n",
    "import subprocess\n",
    "\n",
    "# Load Excel data\n",
    "data = pd.read_excel(\"test22.xlsx\")\n",
    "\n",
    "# Create output directory for reports\n",
    "output_dir = \"reports\"\n",
    "os.makedirs(output_dir, exist_ok=True)\n",
    "\n",
    "# Iterate through each row in the Excel file\n",
    "for index, row in data.iterrows():\n",
    "    # Extract data for the current sample\n",
    "    image_path = row['ImagePath']  # Full path to the image\n",
    "    measurement1 = row['Measurement1']\n",
    "    measurement2 = row['Measurement2']\n",
    "    result = row['Result']\n",
    "    description = row['Description']\n",
    "    \n",
    "    # Extract a sample ID from the image path (e.g., Sample_001 from images/Sample_001.png)\n",
    "    sample_id = os.path.splitext(os.path.basename(image_path))[0]\n",
    "\n",
    "    # Dynamically generate the LaTeX document as a string\n",
    "    latex_code = f\"\"\"\n",
    "    \\\\documentclass[a4paper,12pt]{{article}}\n",
    "    \\\\usepackage{{graphicx}}\n",
    "    \\\\usepackage[margin=1in]{{geometry}}\n",
    "\n",
    "    \\\\begin{{document}}\n",
    "\n",
    "    % Title Section\n",
    "    \\\\section*{{Sample Report: {sample_id}}}\n",
    "\n",
    "    \\\\subsection*{{Summary Table}}\n",
    "    \\\\begin{{table}}[h!]\n",
    "    \\\\centering\n",
    "    \\\\begin{{tabular}}{{|l|l|}}\n",
    "    \\\\hline\n",
    "    \\\\textbf{{Parameter}} & \\\\textbf{{Value}} \\\\\\\\ \\\\hline\n",
    "    Measurement 1 & {measurement1} \\\\\\\\ \\\\hline\n",
    "    Measurement 2 & {measurement2} \\\\\\\\ \\\\hline\n",
    "    Result & {result} \\\\\\\\ \\\\hline\n",
    "    Description & {description} \\\\\\\\ \\\\hline\n",
    "    \\\\end{{tabular}}\n",
    "    \\\\caption{{Summary of measurements and result for {sample_id}}}\n",
    "    \\\\end{{table}}\n",
    "\n",
    "    \\\\subsection*{{Sample Image}}\n",
    "    \\\\includegraphics[width=\\\\textwidth]{{{image_path}}}\n",
    "\n",
    "    \\\\end{{document}}\n",
    "    \"\"\"\n",
    "\n",
    "    # Save the LaTeX code to a .tex file\n",
    "    tex_file = os.path.join(output_dir, f\"{sample_id}.tex\")\n",
    "    with open(tex_file, \"w\") as file:\n",
    "        file.write(latex_code)\n",
    "\n",
    "   \n",
    "\n",
    "print(\"Reports generated!\")\n"
   ]
  },
  {
   "cell_type": "code",
   "execution_count": null,
   "metadata": {},
   "outputs": [],
   "source": []
  }
 ],
 "metadata": {
  "kernelspec": {
   "display_name": "base",
   "language": "python",
   "name": "python3"
  },
  "language_info": {
   "codemirror_mode": {
    "name": "ipython",
    "version": 3
   },
   "file_extension": ".py",
   "mimetype": "text/x-python",
   "name": "python",
   "nbconvert_exporter": "python",
   "pygments_lexer": "ipython3",
   "version": "3.12.6"
  }
 },
 "nbformat": 4,
 "nbformat_minor": 2
}
